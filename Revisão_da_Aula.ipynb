{
  "nbformat": 4,
  "nbformat_minor": 0,
  "metadata": {
    "colab": {
      "provenance": [],
      "include_colab_link": true
    },
    "kernelspec": {
      "name": "python3",
      "display_name": "Python 3"
    },
    "language_info": {
      "name": "python"
    }
  },
  "cells": [
    {
      "cell_type": "markdown",
      "metadata": {
        "id": "view-in-github",
        "colab_type": "text"
      },
      "source": [
        "<a href=\"https://colab.research.google.com/github/livvialta/USP-Python/blob/main/Revis%C3%A3o_da_Aula.ipynb\" target=\"_parent\"><img src=\"https://colab.research.google.com/assets/colab-badge.svg\" alt=\"Open In Colab\"/></a>"
      ]
    },
    {
      "cell_type": "markdown",
      "source": [
        "#**MPT15 aula 3**\n",
        "\n",
        "*Conteúdo*\n",
        "\n",
        "> **revisão** visitando os exercícios das listas das **semanas 1 e 2**\n",
        "\n",
        "> lembrando de **repetições e condicionais no blocly games** (até fase 8)\n",
        "\n",
        "> **strings na memória**: sequências de caracteres \n",
        "\n",
        "> **if-in** string: se uma string está contida em outra\n",
        "\n",
        "> **for-in** string: passeando em uma letra da string de cada vez\n",
        "\n",
        "> **for-in** range(): passeando em um número de uma sequênciade cada vez"
      ],
      "metadata": {
        "id": "LKpGwECgfaxh"
      }
    },
    {
      "cell_type": "markdown",
      "source": [
        "\n",
        "\n",
        "---\n",
        "\n"
      ],
      "metadata": {
        "id": "z3l2ThvhjbWZ"
      }
    },
    {
      "cell_type": "code",
      "source": [],
      "metadata": {
        "id": "Q62KweNG8e0D"
      },
      "execution_count": null,
      "outputs": []
    },
    {
      "cell_type": "markdown",
      "source": [
        "#**O operador 'in'**\n",
        "\n"
      ],
      "metadata": {
        "id": "c3HpK6Efjjf5"
      }
    },
    {
      "cell_type": "markdown",
      "source": [
        "O **operador 'in'** verifica se um valor específico está presente em uma sequência de elementos. Essa sequência pode ser \n",
        "* uma string (sequência de caracteres), \n",
        "* uma sequência de números ou\n",
        "* uma lista de itens (próxima aula)\n",
        "* ou outros tipos não cobertos em nosso curso \n",
        "\n",
        "Em outras palavras, o operador \"in\" verifica se um elemento específico faz parte de um grupo de elementos. O resultado dessa verificação é um valor booleano, *True* ou *False*, que indica a presença ou não do elemento específico na sequência.\n",
        "\n",
        "---"
      ],
      "metadata": {
        "id": "m2oFnzp4hr56"
      }
    },
    {
      "cell_type": "markdown",
      "source": [
        "#Usando **if-in** para testar se um elemento faz parte de uma string\n"
      ],
      "metadata": {
        "id": "nF1mXW4Ij4CS"
      }
    },
    {
      "cell_type": "code",
      "execution_count": null,
      "metadata": {
        "colab": {
          "base_uri": "https://localhost:8080/"
        },
        "id": "i5J6w27mjFs6",
        "outputId": "5eda012f-a545-4c12-f9ec-e95757d9bf89"
      },
      "outputs": [
        {
          "output_type": "stream",
          "name": "stdout",
          "text": [
            "Ubatuba\n",
            "tem \"a\"\n"
          ]
        }
      ],
      "source": [
        "# lê uma string que fica apontada por nome\n",
        "# verifica se 'a' está contido na string lida\n",
        "\n",
        "nome = input() \n",
        "if 'a' in nome:\n",
        "  print('tem \"a\"')\n",
        "else:\n",
        "  print('não tem \"a\"')"
      ]
    },
    {
      "cell_type": "markdown",
      "source": [
        "#Usando **if-in** para testar se um elemento **não faz parte** de uma string\n",
        "> Para verificar se a letra 'a' não está na string, podemos usar **not in** em vez de **in**\n"
      ],
      "metadata": {
        "id": "36XOUUJ67hrg"
      }
    },
    {
      "cell_type": "code",
      "source": [
        "nome = input() \n",
        "if 'a' not in nome:\n",
        "  print('Não tem \"a\"')\n",
        "else:\n",
        "  print('tem \"a\"')"
      ],
      "metadata": {
        "id": "YOD_sttY7qcH"
      },
      "execution_count": null,
      "outputs": []
    },
    {
      "cell_type": "markdown",
      "source": [
        "#Usando **if-in** para testar se uma **string está presente em outra string**\n"
      ],
      "metadata": {
        "id": "fA3peB-4DWuc"
      }
    },
    {
      "cell_type": "code",
      "source": [
        "v1 = input()\n",
        "v2 = input()\n",
        "\n",
        "if v2 in v1:\n",
        "  print('yes')\n",
        "else:\n",
        "  print('nope')"
      ],
      "metadata": {
        "colab": {
          "base_uri": "https://localhost:8080/"
        },
        "id": "bBRTdpSFuxlJ",
        "outputId": "22b92594-45d6-4847-aa58-dca75e4eb98e"
      },
      "execution_count": null,
      "outputs": [
        {
          "output_type": "stream",
          "name": "stdout",
          "text": [
            "boi\n",
            "oi\n",
            "yes\n"
          ]
        }
      ]
    },
    {
      "cell_type": "markdown",
      "source": [
        "#**E se eu quiser percorrer a sequência de caracteres um a um?**\n",
        "\n",
        "O comando **for-in** é utilizado quando precisamos executar **várias** vezes o **mesmo bloco** de código para **diferentes elementos** de uma **sequência**. \n",
        "> Ele pode ser usado em várias situações, como para percorrer cada caractere de uma string, para iterar sobre os elementos de uma lista ou para executar um bloco de código um número fixo de vezes.\n",
        "---\n",
        "\n",
        "#**O comando for-in**\n",
        "\n",
        "1. Começamos com a palavra-chave **for**, seguida de uma *variável* que aponta para *cada elemento* da sequência. Essa variável é atualizada automaticamente a cada iteração da repetição.\n",
        "1. Em seguida, colocamos a palavra-chave **in**, seguida da sequência a ser _percorrida_ durante a repetição.\n",
        "1. Após o **in** colocamos dois pontos (**:**) para indicar o início do bloco de código que será repetido a cada iteração.\n",
        "1. A cada iteração, a variável do loop é atualizada com o próximo elemento da sequência, e o bloco de código é executado para esse elemento.\n",
        "1. Quando o loop termina de percorrer todos os elementos da sequência, o bloco de código é finalizado."
      ],
      "metadata": {
        "id": "DJ1k9iLkjw6i"
      }
    },
    {
      "cell_type": "markdown",
      "source": [
        "#Percorrendo a sequência 'vixemaria'\n",
        "- faz **x** percorrer cada elemento de 'vixemaria'\n",
        " - o elemento apontado por **x** é impresso dentro do bloco de repetição\n",
        "- depois da repetição, imprime 'fim'"
      ],
      "metadata": {
        "id": "Ij93gbdhXmeb"
      }
    },
    {
      "cell_type": "code",
      "source": [
        "for x in 'vixemaria':\n",
        "  print(x)\n",
        "print('fim')"
      ],
      "metadata": {
        "colab": {
          "base_uri": "https://localhost:8080/"
        },
        "id": "cQzMtG4uzEpO",
        "outputId": "91b0b466-da2d-4294-f108-71beab31ac37"
      },
      "execution_count": null,
      "outputs": [
        {
          "output_type": "stream",
          "name": "stdout",
          "text": [
            "v\n",
            "i\n",
            "x\n",
            "e\n",
            "m\n",
            "a\n",
            "r\n",
            "i\n",
            "a\n",
            "fim\n"
          ]
        }
      ]
    },
    {
      "cell_type": "markdown",
      "source": [
        "#Percorrendo a sequência 'helen'\n",
        "\n",
        "- faz a variável **linha** apontar para 'helen'\n",
        "- faz a variável **letra** percorrer a sequência apontada por **linha**: \n",
        " -  o elemento apontado por **letra** é impresso a cada repetição"
      ],
      "metadata": {
        "id": "4EeQmJeIW-XG"
      }
    },
    {
      "cell_type": "code",
      "source": [
        "linha = 'helen'     # sequência inicial que será percorrida\n",
        "for letra in linha: # faz 'letra' percorrer a 'linha'\n",
        "  print(letra)      # imprime valor apontado por letra"
      ],
      "metadata": {
        "colab": {
          "base_uri": "https://localhost:8080/"
        },
        "id": "J9maVAENeGdf",
        "outputId": "807db2b4-93d7-451d-e6fc-f8b2acf74afe"
      },
      "execution_count": null,
      "outputs": [
        {
          "output_type": "stream",
          "name": "stdout",
          "text": [
            "h\n",
            "e\n",
            "l\n",
            "e\n",
            "n\n"
          ]
        }
      ]
    },
    {
      "cell_type": "markdown",
      "source": [
        "#Percorrendo cada caractere de uma linha lida\n",
        "- lê uma sequência de caracteres e deixa a variável **linha** apontando para ela\n",
        "- faz **letra** percorrer cada elemento da sequência apontada por **linha**\n",
        " -   o elemento apontado por **letra** é impresso dentro do bloco de repetição\n"
      ],
      "metadata": {
        "id": "YSFGbWdZYHIe"
      }
    },
    {
      "cell_type": "code",
      "source": [
        "linha = input()\n",
        "for letra in linha:\n",
        "  print(letra)"
      ],
      "metadata": {
        "colab": {
          "base_uri": "https://localhost:8080/"
        },
        "id": "sl3uywOZwnPI",
        "outputId": "ae429317-16aa-4be5-974e-3c565c5bc79b"
      },
      "execution_count": null,
      "outputs": [
        {
          "output_type": "stream",
          "name": "stdout",
          "text": [
            "ada lovelace\n",
            "a\n",
            "d\n",
            "a\n",
            " \n",
            "l\n",
            "o\n",
            "v\n",
            "e\n",
            "l\n",
            "a\n",
            "c\n",
            "e\n"
          ]
        }
      ]
    },
    {
      "cell_type": "markdown",
      "source": [
        "#O que acontece com a variável utilizada na repetição?\n",
        "\n",
        "> A cada iteração, a variável do bloco de repetição é atualizada com o próximo elemento da sequência, e o bloco de código é executado para esse elemento.\n",
        "\n",
        "> Quando o loop termina de percorrer todos os elementos da sequência, o bloco de código é finalizado.\n",
        "\n",
        "Veja abaixo uma modificação do exemplo **Percorrendo a sequência 'helen'**\n",
        "\n",
        "- faz a variável **letra** apontar para 'a' *só para ilustrar que será isso perdido!*\n",
        "- faz a variável **linha** apontar para 'helen'\n",
        "- faz a variável **letra** percorrer a sequência apontada por **linha**:\n",
        " - o elemento apontado por **letra** é impresso a cada repetição\n",
        " - *note que o valor original 'a' apontando por **letra** é perdido!*\n",
        "-ao terminar a repetição, imprime (novamente) o último valor apontado por **letra**\n",
        " - *note que **letra** aponta para o último valor ao término da repetição!*"
      ],
      "metadata": {
        "id": "8VmTVe3ceJn_"
      }
    },
    {
      "cell_type": "code",
      "source": [
        "letra = 'a'         # valor inicial que será perdido\n",
        "linha = 'helen'     # sequência inicial que será percorrida\n",
        "for letra in linha: # faz 'letra' percorrer a 'linha'\n",
        "  print(letra)      # imprime valor apontado por letra\n",
        "print('ultimo valor apontado por letra:', letra)  # reimprime o último valor"
      ],
      "metadata": {
        "colab": {
          "base_uri": "https://localhost:8080/"
        },
        "id": "FDotwCNY2VUv",
        "outputId": "cf344406-3341-485b-8cd9-dff09540d49c"
      },
      "execution_count": null,
      "outputs": [
        {
          "output_type": "stream",
          "name": "stdout",
          "text": [
            "h\n",
            "e\n",
            "l\n",
            "e\n",
            "n\n",
            "ultimo valor apontado por letra: n\n"
          ]
        }
      ]
    },
    {
      "cell_type": "markdown",
      "source": [
        "#Atenção para este exemplo: ERRO #1\n",
        "> é nossa responsabilidade não afetar o valor associado à variável que aponta para cada elemento da sequência"
      ],
      "metadata": {
        "id": "UjCKgjS4GFzA"
      }
    },
    {
      "cell_type": "code",
      "source": [
        "letra = 'a'         # valor inicial que será perdido\n",
        "linha = 'helen'     # sequência inicial que será percorrida\n",
        "for letra in linha: # faz 'letra' percorrer a 'linha'\n",
        "  letra = '.'\n",
        "  print(letra)      # imprime valor apontado por letra\n",
        "print('ultimo valor apontado por letra:', letra)  # reimprime o último valor"
      ],
      "metadata": {
        "colab": {
          "base_uri": "https://localhost:8080/"
        },
        "id": "wXAVw4bHGVwo",
        "outputId": "c52ba31c-6442-48e3-a6bc-68618cd00f5d"
      },
      "execution_count": null,
      "outputs": [
        {
          "output_type": "stream",
          "name": "stdout",
          "text": [
            ".\n",
            ".\n",
            ".\n",
            ".\n",
            ".\n",
            "ultimo valor apontado por letra: .\n"
          ]
        }
      ]
    },
    {
      "cell_type": "markdown",
      "source": [
        "#Atenção para este exemplo: ERRO #2\n",
        "> é nossa responsabilidade não afetar o valor associado à variável que aponta para cada elemento da sequência"
      ],
      "metadata": {
        "id": "INgM-7IDGtri"
      }
    },
    {
      "cell_type": "code",
      "source": [
        "letra = 'a'         # valor inicial que será perdido\n",
        "linha = 'helen'     # sequência inicial que será percorrida\n",
        "for letra in linha: # faz 'letra' percorrer a 'linha'\n",
        "  print(letra)      # imprime valor apontado por letra\n",
        "  letra = '.'\n",
        "print('ultimo valor apontado por letra:', letra)  # reimprime o último valor"
      ],
      "metadata": {
        "colab": {
          "base_uri": "https://localhost:8080/"
        },
        "id": "8exrqGxZGEf5",
        "outputId": "6534182f-4efb-40d5-db1e-6024fcf60ce2"
      },
      "execution_count": null,
      "outputs": [
        {
          "output_type": "stream",
          "name": "stdout",
          "text": [
            "h\n",
            "e\n",
            "l\n",
            "e\n",
            "n\n",
            "ultimo valor apontado por letra: .\n"
          ]
        }
      ]
    },
    {
      "cell_type": "markdown",
      "source": [
        "#**Contando itens de uma sequência**\n",
        "\n",
        "Ao percorrer a sequência, vamos contar quantos itens foram percorridos\n",
        "- **linha** aponta a sequência de caracteres lida do teclado\n",
        "- **item** aponta cada item da sequência\n",
        "- **contador** acumula o número de itens percorridos"
      ],
      "metadata": {
        "id": "ydI6DnrbVClA"
      }
    },
    {
      "cell_type": "code",
      "source": [
        "linha = input()\n",
        "\n",
        "contador = 0\n",
        "for item in linha:\n",
        "  contador = contador + 1\n",
        "\n",
        "print('contador:', contador)"
      ],
      "metadata": {
        "colab": {
          "base_uri": "https://localhost:8080/"
        },
        "id": "8dImc7fl4Hf2",
        "outputId": "0fd72838-f2d3-4a20-bded-8ce86c4a065b"
      },
      "execution_count": null,
      "outputs": [
        {
          "output_type": "stream",
          "name": "stdout",
          "text": [
            "meninas programadoras\n",
            "contador: 21\n"
          ]
        }
      ]
    },
    {
      "cell_type": "markdown",
      "source": [
        "#Sabemos fazer.. e Python também\n",
        "\n",
        "A função **len()** faz exatamente isso\n",
        "- abreviatura de *lenght*: comprimento "
      ],
      "metadata": {
        "id": "dNbmHEmd5nLW"
      }
    },
    {
      "cell_type": "code",
      "source": [
        "linha = input()\n",
        "tamanho = len(linha)  # lenght()\n",
        "print(tamanho)"
      ],
      "metadata": {
        "colab": {
          "base_uri": "https://localhost:8080/"
        },
        "id": "INo9cG6i6Zso",
        "outputId": "70b6eead-ec6a-4be4-d23a-d59e0ebe4569"
      },
      "execution_count": null,
      "outputs": [
        {
          "output_type": "stream",
          "name": "stdout",
          "text": [
            "jidhs7Hsdtv1bI&*Y2623\n",
            "21\n"
          ]
        }
      ]
    },
    {
      "cell_type": "markdown",
      "source": [
        "#**Verificar se uma sequência está contida em outra sem usar _if-in_**\n",
        "> agora a gente sabe como fazer!"
      ],
      "metadata": {
        "id": "6i3K7VFcIPv0"
      }
    },
    {
      "cell_type": "code",
      "source": [
        "sequencia_procurada = input()\n",
        "sequencia = input()\n",
        "\n",
        "resp = 'não achou'\n",
        "\n",
        "for item in sequencia:\n",
        "  if item == sequencia_procurada:\n",
        "    resp = 'achou'\n",
        " \n",
        "print(resp)"
      ],
      "metadata": {
        "colab": {
          "base_uri": "https://localhost:8080/"
        },
        "id": "Dgf4lqzoCNGV",
        "outputId": "1fea0b69-846e-49ef-f164-edfc0d5aeab3"
      },
      "execution_count": null,
      "outputs": [
        {
          "output_type": "stream",
          "name": "stdout",
          "text": [
            "a\n",
            "dshdjs dddj sda dlkjs kdsjdksajkdlasjidlajkldjaskldjaskljdlfkçfreopreogkoprekgoprekgoperkgopreg ergk erog kreopg kreop gkopre kgoprek gporek gop rekgoprek goprek gopekropgk reop gkreop kgoperk g opre kopgkerpo gkeoprk greopkg opre kgoper kgoprekopgkeropgkreopkgoperkgope rkgoperkgopekropgkeropgkreop gkeopr kgeoprk goperk gperkgopekropgk\n",
            "achou\n"
          ]
        }
      ]
    },
    {
      "cell_type": "markdown",
      "source": [
        "#**Contar elementos com um determinado valor**\n",
        "\n",
        "*Temos que **percorrer** toda a sequência de elementos e comparar cada elemento com o valor-alvo, incrementando o contador cada vez que encontrarmos *o* valor-alvo*\n",
        "\n",
        "> a variável **letra_procurada** aponta para o valor-alvo obtido do teclado\n",
        "\n",
        "> a variável **linha** aponta para o valor-alvo obtido do teclado\n",
        "\n",
        "> **letra** é a variável que é atualizada a cada iteração\n"
      ],
      "metadata": {
        "id": "DOSx-LH2Dnt4"
      }
    },
    {
      "cell_type": "code",
      "source": [
        "# lê a letra a ser procurada\n",
        "letra_procurada = input()\n",
        "\n",
        "# lê a linha contendo a sequência de caracteres\n",
        "linha = input()\n",
        "\n",
        "# prepara a variável 'contador' com 0 \n",
        "# o valor será incrementado dentro da repetição sempre\n",
        "#   que o valor buscado for identificado\n",
        "contador = 0\n",
        "\n",
        "for letra in linha:             # faz letra apontar os caracteres de linha, um a um\n",
        "  if letra == letra_procurada:  # compara a letra da vez com a letra procurada\n",
        "    contador = contador + 1     # incrementa o contador se forem iguais\n",
        "print('contador:', contador)    # ao encerrar a repetição, imprime o valor de contador"
      ],
      "metadata": {
        "colab": {
          "base_uri": "https://localhost:8080/"
        },
        "id": "r1zT4d8m21GY",
        "outputId": "2d4234ee-a2b8-410c-c32e-c383e087281d"
      },
      "execution_count": null,
      "outputs": [
        {
          "output_type": "stream",
          "name": "stdout",
          "text": [
            "a\n",
            "aeiou aeiou aeiou aeiou aeiou \n",
            "contador: 5\n"
          ]
        }
      ]
    },
    {
      "cell_type": "markdown",
      "source": [
        "#Contando itens de uma sequência\n",
        "\n",
        "Mesmo objetivo, utilizando apenas outros nomes para as variáveis \n",
        "- **sequência** aponta a sequência de caracteres\n",
        "- **item** aponta cada item da sequência\n"
      ],
      "metadata": {
        "id": "f1KebHvNUaxt"
      }
    },
    {
      "cell_type": "code",
      "source": [
        "letra_procurada = input()\n",
        "sequencia = input()\n",
        "\n",
        "contador = 0\n",
        "for item in sequencia:\n",
        "  if item == letra_procurada:\n",
        "    contador = contador + 1\n",
        "print('contador:', contador)\n"
      ],
      "metadata": {
        "id": "-SStyxTOAjJ3"
      },
      "execution_count": null,
      "outputs": []
    },
    {
      "cell_type": "markdown",
      "source": [
        "#ERRADO: só considera a ultima letra\n",
        "> esta versão está errada pois atualiza o valor de **resp** a cada iteração\n",
        "\n",
        "> com isso, apenas o último valor será considerado"
      ],
      "metadata": {
        "id": "OuRERsI334Y8"
      }
    },
    {
      "cell_type": "code",
      "source": [
        "letra_procurada = input()\n",
        "sequencia = input()\n",
        "\n",
        "for item in sequencia:\n",
        "  if item == letra_procurada:\n",
        "    resp = 'achou'\n",
        "  else:\n",
        "    resp = 'não achou'  #ERRADO: só considera a ultima letra\n",
        "\n",
        "print(resp)"
      ],
      "metadata": {
        "colab": {
          "base_uri": "https://localhost:8080/"
        },
        "id": "G8tyxEHSEoy_",
        "outputId": "799e659a-2d39-4ce6-ace4-ce15de0ea1a9"
      },
      "execution_count": null,
      "outputs": [
        {
          "output_type": "stream",
          "name": "stdout",
          "text": [
            "e\n",
            "errado\n",
            "não achou\n"
          ]
        }
      ]
    },
    {
      "cell_type": "markdown",
      "source": [
        "#**Interrompendo a repetição o mais cedo possível**\n",
        "\n",
        "> Utilizamos comando *break* é utilizado em repetições, como no for-in em Python, para interromper a execução da repetição de forma abrupta. No caso de um loop for-in, o break é utilizado para interromper a iteração atual e sair do loop sem executar as iterações restantes.\n",
        "\n",
        "Nos exemplos abaixos, a repetição é interrompida assim que for encontrada a primeira ocorrência de **letra_procurada** \n"
      ],
      "metadata": {
        "id": "htu3hQQq48jb"
      }
    },
    {
      "cell_type": "code",
      "source": [
        "letra_procurada = input()\n",
        "sequencia = input()\n",
        "\n",
        "resp = 'não achou'\n",
        "\n",
        "for item in sequencia:\n",
        "  if item == letra_procurada:\n",
        "    resp = 'achou'\n",
        "    break\n",
        "\n",
        "print(resp)"
      ],
      "metadata": {
        "colab": {
          "base_uri": "https://localhost:8080/"
        },
        "id": "2cA9rGViEIHx",
        "outputId": "6ce684ca-6c66-4d46-e142-213c1ac3d3a9"
      },
      "execution_count": null,
      "outputs": [
        {
          "output_type": "stream",
          "name": "stdout",
          "text": [
            "a\n",
            "dkaslkadsalaslçdlasdls\n",
            "achou\n"
          ]
        }
      ]
    },
    {
      "cell_type": "code",
      "source": [
        "letra_procurada = input()\n",
        "sequencia = input()\n",
        "\n",
        "resp = 'não achou'\n",
        "contador = 0\n",
        "for item in sequencia:\n",
        "  contador = contador + 1\n",
        "  if item == letra_procurada:\n",
        "    resp = 'achou'\n",
        "    break\n",
        "\n",
        "print(resp, contador)"
      ],
      "metadata": {
        "colab": {
          "base_uri": "https://localhost:8080/"
        },
        "id": "4SFEP7sjHS42",
        "outputId": "8ec24238-c7e1-4dd8-bdee-0b834a3aa6a5"
      },
      "execution_count": null,
      "outputs": [
        {
          "output_type": "stream",
          "name": "stdout",
          "text": [
            "a\n",
            "ssssssssssa dsjdjlsdjlsdls jldsjdlsdj sldljsd ls jdl sdjs dl sjdlsj dlsjdoofgdlç fdsklfj sdofjsopfjdsfm sdçfo0 wefoçsekfopw eflçsd fosdkfos ekfopsodpfjsdofowpe foweorpweiropwerk opwe ropwe rmweoprjweopmr opwepr wemoropwe rjkopweropwerkowep krowekropwerk weork wer\n",
            "achou 11\n"
          ]
        }
      ]
    },
    {
      "cell_type": "markdown",
      "source": [
        "#**Trabalhando com um número de valores conhecidos antes do programa começar**\n",
        "> no exemplo abaixo, lemos as notas de três alunas e imprimos a soma das notas"
      ],
      "metadata": {
        "id": "T9hRq89r7Q3K"
      }
    },
    {
      "cell_type": "code",
      "source": [
        "aluna1 = int(input())\n",
        "aluna2 = int(input())\n",
        "aluna3 = int(input())\n",
        "\n",
        "print(aluna1 + aluna2 + aluna3)\n"
      ],
      "metadata": {
        "colab": {
          "base_uri": "https://localhost:8080/"
        },
        "id": "8wPYDBhzJYLW",
        "outputId": "970ee4be-4f36-4a10-ae08-6f29c7b711ce"
      },
      "execution_count": null,
      "outputs": [
        {
          "output_type": "stream",
          "name": "stdout",
          "text": [
            "1\n",
            "2\n",
            "1\n",
            "4\n"
          ]
        }
      ]
    },
    {
      "cell_type": "markdown",
      "source": [
        "#e se forem 10 ou 100 ou 1000 ou 10000 ou 100000 alunas?\n",
        "> precisamos criar 10 ou 100 ou 1000 ou 10000 ou 100000 variáveis? "
      ],
      "metadata": {
        "id": "UVb78IAG7vOj"
      }
    },
    {
      "cell_type": "markdown",
      "source": [
        "#**Usando a função range() para gerar uma sequência de números**\n",
        "\n",
        "A função range() é uma função embutida da linguagem Python que permite criar uma sequência de números inteiros em um intervalo definido. Ela é bastante útil em diversos contextos, como iterações, loops e geração de listas.\n",
        "\n",
        "A sintaxe da função range() é:\n",
        "\n",
        "```\n",
        "# range(início, fim, passo)\n",
        "```\n",
        "\n",
        "sendo que:\n",
        "- **início**: é o número inteiro que indica o valor inicial da sequência. Se não for especificado na chamada, o valor **padrão é 0**.\n",
        "- **fim**: é o número inteiro que indica o valor final da sequência. **O valor final não faz parte da sequência**, ou seja, a sequência vai até o número anterior ao valor final. Este argumento é **obrigatório**.\n",
        "- **passo**: é o número inteiro que indica o intervalo entre cada número na sequência. Se não for especificado na chamada, o valor **padrão é 1**."
      ],
      "metadata": {
        "id": "G2pqFvK8JLcC"
      }
    },
    {
      "cell_type": "code",
      "source": [
        "# Imprime os números de 0 a 9\n",
        "for i in range(10):\n",
        "    print(i)\n",
        "print('-')\n",
        "\n",
        "# Imprime os números de 5 a 14\n",
        "for i in range(5, 15):\n",
        "    print(i)\n",
        "print('-')\n",
        "\n",
        "# Imprime os números pares de 0 a 10\n",
        "for i in range(0, 11, 2):\n",
        "    print(i)\n",
        "print('-')"
      ],
      "metadata": {
        "colab": {
          "base_uri": "https://localhost:8080/"
        },
        "id": "pcfiXNp3KbDV",
        "outputId": "fa6da960-fa89-4555-d06b-4f2bda292e68"
      },
      "execution_count": null,
      "outputs": [
        {
          "output_type": "stream",
          "name": "stdout",
          "text": [
            "0\n",
            "1\n",
            "2\n",
            "3\n",
            "4\n",
            "5\n",
            "6\n",
            "7\n",
            "8\n",
            "9\n",
            "----------\n",
            "5\n",
            "6\n",
            "7\n",
            "8\n",
            "9\n",
            "10\n",
            "11\n",
            "12\n",
            "13\n",
            "14\n",
            "----------\n",
            "0\n",
            "2\n",
            "4\n",
            "6\n",
            "8\n",
            "10\n",
            "----------\n"
          ]
        }
      ]
    },
    {
      "cell_type": "markdown",
      "source": [
        "#**Gerando e imprimindo de 0 a 11**"
      ],
      "metadata": {
        "id": "wGAqaKGnMluh"
      }
    },
    {
      "cell_type": "code",
      "source": [
        "for i in range(12):\n",
        "  print(i)\n"
      ],
      "metadata": {
        "colab": {
          "base_uri": "https://localhost:8080/"
        },
        "id": "VYBS-TjOLBGY",
        "outputId": "7b3b15db-62a4-415d-cd63-dbff7008c78e"
      },
      "execution_count": null,
      "outputs": [
        {
          "output_type": "stream",
          "name": "stdout",
          "text": [
            "0\n",
            "1\n",
            "2\n",
            "3\n",
            "4\n",
            "5\n",
            "6\n",
            "7\n",
            "8\n",
            "9\n",
            "10\n",
            "11\n"
          ]
        }
      ]
    },
    {
      "cell_type": "markdown",
      "source": [
        "#**Lendo o valor limitante de uma sequência que começa em 0**"
      ],
      "metadata": {
        "id": "zz5_d25cMw3S"
      }
    },
    {
      "cell_type": "code",
      "source": [
        "n = int(input())\n",
        "for i in range(n):\n",
        "  print(i)\n",
        "  "
      ],
      "metadata": {
        "colab": {
          "base_uri": "https://localhost:8080/"
        },
        "id": "tcPC1_VdLfOO",
        "outputId": "79d817d5-cd6d-4f6a-cd8f-f65d40fbb057"
      },
      "execution_count": null,
      "outputs": [
        {
          "output_type": "stream",
          "name": "stdout",
          "text": [
            "13\n",
            "0\n",
            "1\n",
            "2\n",
            "3\n",
            "4\n",
            "5\n",
            "6\n",
            "7\n",
            "8\n",
            "9\n",
            "10\n",
            "11\n",
            "12\n"
          ]
        }
      ]
    },
    {
      "cell_type": "markdown",
      "source": [
        "#**Lendo o primeiro valor e o valor limitante de uma sequência**"
      ],
      "metadata": {
        "id": "CYfGJPB9M6Yt"
      }
    },
    {
      "cell_type": "code",
      "source": [
        "primeiro = int(input())\n",
        "n = int(input())\n",
        "for i in range(primeiro, n):\n",
        "  print(i)"
      ],
      "metadata": {
        "colab": {
          "base_uri": "https://localhost:8080/"
        },
        "id": "eTm4ZS8IL5Q_",
        "outputId": "f9a244fb-87e0-4ce1-affa-35df570c4070"
      },
      "execution_count": null,
      "outputs": [
        {
          "output_type": "stream",
          "name": "stdout",
          "text": [
            "1\n",
            "13\n",
            "1\n",
            "2\n",
            "3\n",
            "4\n",
            "5\n",
            "6\n",
            "7\n",
            "8\n",
            "9\n",
            "10\n",
            "11\n",
            "12\n"
          ]
        }
      ]
    },
    {
      "cell_type": "code",
      "source": [
        "#**Lendo o primeiro valor, o valor limitante e o passo de uma sequência**"
      ],
      "metadata": {
        "id": "ffBpkhxbNDUS"
      },
      "execution_count": null,
      "outputs": []
    },
    {
      "cell_type": "code",
      "source": [
        "primeiro = int(input())\n",
        "passo = int(input())\n",
        "n = int(input())\n",
        "for i in range(primeiro, n, passo):\n",
        "  print(i)"
      ],
      "metadata": {
        "colab": {
          "base_uri": "https://localhost:8080/"
        },
        "id": "LDAhCuOGMGbm",
        "outputId": "23e22a58-b8fc-4817-bceb-fb7d1639cddf"
      },
      "execution_count": null,
      "outputs": [
        {
          "output_type": "stream",
          "name": "stdout",
          "text": [
            "0\n",
            "2\n",
            "21\n",
            "0\n",
            "2\n",
            "4\n",
            "6\n",
            "8\n",
            "10\n",
            "12\n",
            "14\n",
            "16\n",
            "18\n",
            "20\n"
          ]
        }
      ]
    },
    {
      "cell_type": "markdown",
      "source": [
        "#**Usando uma sequência de 1 a 10**"
      ],
      "metadata": {
        "id": "vIScckqwMYCO"
      }
    },
    {
      "cell_type": "code",
      "source": [
        "for i in range(1, 11):\n",
        "  print(4 * i)"
      ],
      "metadata": {
        "colab": {
          "base_uri": "https://localhost:8080/"
        },
        "id": "667kDsFMNCgu",
        "outputId": "4c277dcc-085a-4883-fd31-c2e316bcb6e1"
      },
      "execution_count": null,
      "outputs": [
        {
          "output_type": "stream",
          "name": "stdout",
          "text": [
            "4\n",
            "8\n",
            "12\n",
            "16\n",
            "20\n",
            "24\n",
            "28\n",
            "32\n",
            "36\n",
            "40\n"
          ]
        }
      ]
    },
    {
      "cell_type": "markdown",
      "source": [
        "#**Sequência de valores negativos de -1 a -10**"
      ],
      "metadata": {
        "id": "fd15GUnMMVql"
      }
    },
    {
      "cell_type": "code",
      "source": [
        "for i in range(-1, -11, -1):\n",
        "    print(i)"
      ],
      "metadata": {
        "colab": {
          "base_uri": "https://localhost:8080/"
        },
        "id": "tvnNWxT0moUK",
        "outputId": "304e716d-b564-4e2d-b851-74dae3eb950e"
      },
      "execution_count": null,
      "outputs": [
        {
          "output_type": "stream",
          "name": "stdout",
          "text": [
            "-1\n",
            "-2\n",
            "-3\n",
            "-4\n",
            "-5\n",
            "-6\n",
            "-7\n",
            "-8\n",
            "-9\n",
            "-10\n"
          ]
        }
      ]
    },
    {
      "cell_type": "markdown",
      "source": [
        "#**Sequência de valores de 10 a -10**"
      ],
      "metadata": {
        "id": "csYXVjQgfEYJ"
      }
    },
    {
      "cell_type": "code",
      "source": [
        "for i in range(10, -11, -1):\n",
        "    print(i)"
      ],
      "metadata": {
        "colab": {
          "base_uri": "https://localhost:8080/"
        },
        "id": "Ht7q48tOm_gL",
        "outputId": "493a42ee-a313-4327-a88c-4b54cbbdf807"
      },
      "execution_count": null,
      "outputs": [
        {
          "output_type": "stream",
          "name": "stdout",
          "text": [
            "10\n",
            "9\n",
            "8\n",
            "7\n",
            "6\n",
            "5\n",
            "4\n",
            "3\n",
            "2\n",
            "1\n",
            "0\n",
            "-1\n",
            "-2\n",
            "-3\n",
            "-4\n",
            "-5\n",
            "-6\n",
            "-7\n",
            "-8\n",
            "-9\n",
            "-10\n"
          ]
        }
      ]
    },
    {
      "cell_type": "markdown",
      "source": [
        "#**Problema: quantas maças a professora recebeu?**\n",
        "\n",
        "Um grupo de alunas combinou de levar maçãs para a professora. Cada uma poderia levar quantas quisesse.\n",
        "\n",
        ">Seu programa deve ler o número alunas do grupo e, para cada aluna, ler quantas maças essa aluna levou. \n",
        "\n",
        ">A resposta do seu programa é o número de maçãs que a professora recebeu :-)\n"
      ],
      "metadata": {
        "id": "SnlASrqiNSll"
      }
    },
    {
      "cell_type": "code",
      "source": [
        "nalunas = int(input())\n",
        "contador = 0\n",
        "for item in range(nalunas):\n",
        "  nfrutas = int(input())\n",
        "  contador = contador + nfrutas\n",
        "print(contador)"
      ],
      "metadata": {
        "colab": {
          "base_uri": "https://localhost:8080/"
        },
        "id": "rwQl6DPKJFdA",
        "outputId": "f9f733ec-fc21-4cae-9889-0be3bf39b42f"
      },
      "execution_count": null,
      "outputs": [
        {
          "output_type": "stream",
          "name": "stdout",
          "text": [
            "3\n",
            "3\n",
            "0\n",
            "2\n",
            "5\n"
          ]
        }
      ]
    }
  ]
}